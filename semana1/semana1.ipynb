{
 "cells": [
  {
   "cell_type": "markdown",
   "metadata": {},
   "source": [
    "# Misión AbogaBot \n",
    "Practica Frontend Launch X - Innovaccion virtual.\n",
    "\n",
    "En una reunión con despacho de abogados se fijaron los requerimientos para el desarrollo de una aplicación, \n",
    "mismos que fueron plasmado en un documento que contiene el RU de cliente Y RU de analista de sistemas de información.\n",
    "\n",
    "### [RU de cliente Y RU de analista](https://1drv.ms/b/s!Aqgsv7NBmT_SoHEyx-_I0seplf3_ \"RU de cliente Y RU de analista2\")\n",
    "* En los Requisitos usuarios cliente o RU cliente  se trascribe tal cual los requisitos de usuario como se \n",
    "platicaron en la reunión o entrevista.\n",
    "+ En los requisitos usuario analista o RU analista se reescribe lo plasmado del RU cliente desde el punto de vista del\n",
    "analista con todas las características tecinas que requiera el sistema de información.\n",
    "\n",
    "Este documento se toma de punto de partida para las especificación de requisitos de software o ERS:\n",
    "\n",
    "\n",
    "### [ERS](https://1drv.ms/b/s!Aqgsv7NBmT_SoHOariTf5VXRoPZN \"ERS\")\n",
    "\n",
    "### [Buyer Persona](https://1drv.ms/w/s!Aqgsv7NBmT_SoHSnVRuRicBHRqLM?e=y1qrgp \"Buyer\")\n",
    "\n",
    "### [Publico objetivo](https://miro.com/welcomeonboard/cEdvRmxncjlPSlQ3WnR5eVRvaXlKM2tSWGVEalZZNVZYRGhRRjgxRTRGd0dubWhJZWpUY1czMzV4Y1Awd25YRXwzMDc0NDU3MzY1MDUwMTIzMTYz?invite_link_id=812389492268 \"Publico objetivo\")\n",
    "\n",
    "### [WireFrame](wireframe/wireframe.ipynb \"WireFrame\")\n",
    "\n",
    "### [UI](https://www.figma.com/file/8IyFupHaJssoby86MWCuxy/AbogaBot?node-id=1%3A2 \"UI\")\n",
    "![AbogaBot](../src/img/abogabot.png)\n",
    "\n",
    "\n",
    "#### [Regresar al inico](../README.md \"Semana 1\")\n",
    "\n",
    "Redes Jorge D. G. Sánchez:\n",
    "\n",
    "* [GitHub](https://github.com/GsjorgeD \"GitHub\")\n",
    "* [Linkedin](https://github.com/GsjorgeD \"Linkedin\")\n",
    "* [Twitter](https://twitter.com/peRKurgtZSaND \"Twitter\")\n",
    "   \n"
   ]
  }
 ],
 "metadata": {
  "language_info": {
   "name": "python"
  },
  "orig_nbformat": 4
 },
 "nbformat": 4,
 "nbformat_minor": 2
}
