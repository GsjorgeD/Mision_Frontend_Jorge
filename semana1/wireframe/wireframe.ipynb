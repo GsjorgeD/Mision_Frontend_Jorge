{
 "cells": [
  {
   "cell_type": "markdown",
   "metadata": {},
   "source": [
    "# Wireframe AbogaBot\n",
    "Practica Frontend Launch X - Innovaccion virtual.\n",
    "\n",
    "Existen diferentes herramientas para diseñar los Wireframes en lo personal prefiero en papel y a mano,\n",
    "ya que me permite poder plasmar de forma más rápida siguiendo la visión que me brindo las especificaciones de requisitos de Software o ERS. \n",
    "\n",
    "### Pantallas de Inicio\n",
    "![Inicio](../../src/img/incio.jpg)\n",
    "### Pantallas para usuario Abogado\n",
    "![Abogado](../../src/img/Abogado.jpg)\n",
    "### Pantallas usuario  Administrador\n",
    "![Administradoor](../../src/img/Admin.jpg)\n",
    "### Pantallas de Visualización de demandas\n",
    "![Visualización](../../src/img/Ver_demandas.jpg)\n",
    "### Pantallas de Alta de demandas(Pantallas de usuario Cliente)\n",
    "![Alta](../../src/img/Alta_demanda.jpg)\n",
    "\n",
    "#### [Regresar al inico](../../README.md \"Semana 1\")\n",
    "\n",
    "Redes Jorge D. G. Sánchez:\n",
    "\n",
    "* [GitHub](https://github.com/GsjorgeD \"GitHub\")\n",
    "* [Linkedin](https://github.com/GsjorgeD \"Linkedin\")\n",
    "* [Twitter](https://twitter.com/peRKurgtZSaND \"Twitter\")\n",
    "   "
   ]
  }
 ],
 "metadata": {
  "language_info": {
   "name": "python"
  },
  "orig_nbformat": 4
 },
 "nbformat": 4,
 "nbformat_minor": 2
}
